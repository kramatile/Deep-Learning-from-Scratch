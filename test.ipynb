{
 "cells": [
  {
   "cell_type": "code",
   "execution_count": 2,
   "metadata": {},
   "outputs": [
    {
     "data": {
      "text/plain": [
       "array([[1],\n",
       "       [1],\n",
       "       [0],\n",
       "       [1]])"
      ]
     },
     "execution_count": 2,
     "metadata": {},
     "output_type": "execute_result"
    }
   ],
   "source": [
    "import numpy as np\n",
    "\n",
    "x = np.array([[1],[5],[-1],[2.5]])\n",
    "\n",
    "np.where(x > 0,1,0)"
   ]
  },
  {
   "cell_type": "code",
   "execution_count": null,
   "metadata": {},
   "outputs": [
    {
     "name": "stdout",
     "output_type": "stream",
     "text": [
      "x[mine] = [[0.73105858]\n",
      " [0.99330715]\n",
      " [0.26894142]\n",
      " [0.92414182]]\n",
      "x[torch] = tensor([[0.7311],\n",
      "        [0.9933],\n",
      "        [0.2689],\n",
      "        [0.9241]])\n"
     ]
    }
   ],
   "source": [
    "import torch.nn as nn\n",
    "import torch\n",
    "from Sigmoid import Sigmoid\n",
    "\n",
    "s = Sigmoid()\n",
    "x = s.forward(np.array([[1],[5],[-1],[2.5]]))\n",
    "print(f'x[mine] = {x}')\n",
    "t = torch.Tensor([[1],[5],[-1],[2.5]])\n",
    "s = nn.Sigmoid()\n",
    "x = s(t)\n",
    "print(f'x[torch] = {x}')"
   ]
  },
  {
   "cell_type": "code",
   "execution_count": null,
   "metadata": {},
   "outputs": [
    {
     "data": {
      "text/plain": [
       "array([[1. ],\n",
       "       [5. ],\n",
       "       [0. ],\n",
       "       [2.5]])"
      ]
     },
     "execution_count": 4,
     "metadata": {},
     "output_type": "execute_result"
    }
   ],
   "source": [
    "from ReLU import ReLU\n",
    "\n",
    "r = ReLU()\n",
    "x = r.forward(np.array([[1],[5],[-1],[2.5]]))\n",
    "x"
   ]
  },
  {
   "cell_type": "code",
   "execution_count": 1,
   "metadata": {},
   "outputs": [
    {
     "data": {
      "text/plain": [
       "[[0, 1, 2]]"
      ]
     },
     "execution_count": 1,
     "metadata": {},
     "output_type": "execute_result"
    }
   ],
   "source": [
    "x = [[[0,1,2]],[[0,3,4]]]\n",
    "x[0]"
   ]
  },
  {
   "cell_type": "code",
   "execution_count": 3,
   "metadata": {},
   "outputs": [
    {
     "name": "stdout",
     "output_type": "stream",
     "text": [
      "[[[0. 0.]\n",
      "  [0. 0.]]\n",
      "\n",
      " [[0. 0.]\n",
      "  [0. 0.]]]\n"
     ]
    },
    {
     "data": {
      "text/plain": [
       "array([[[10., 50.],\n",
       "        [20., 60.]],\n",
       "\n",
       "       [[30., 70.],\n",
       "        [40., 80.]]])"
      ]
     },
     "execution_count": 3,
     "metadata": {},
     "output_type": "execute_result"
    }
   ],
   "source": [
    "import numpy as np\n",
    "\n",
    "input = np.array([\n",
    "    [1, 2, 3],\n",
    "    [4, 5, 6],\n",
    "    [7, 8, 9]\n",
    "])\n",
    "\n",
    "# Let's say the output matrix Y is:\n",
    "Y = np.zeros((2, 2, 2))  # (output_height, output_width, num_filters)\n",
    "\n",
    "# After computing feature_map for filter 0:\n",
    "feature_map0 = np.array([\n",
    "    [10, 20],\n",
    "    [30, 40]\n",
    "])\n",
    "\n",
    "# For filter 1:\n",
    "feature_map1 = np.array([\n",
    "    [50, 60],\n",
    "    [70, 80]\n",
    "])\n",
    "\n",
    "print(Y)\n",
    "# Assigning to the output:\n",
    "Y[:, :, 0] = feature_map0  # Assigns feature map 0 to the first filter output\n",
    "Y[:, :, 1] = feature_map1  # Assigns feature map 1 to the second filter output\n",
    "\n",
    "Y\n",
    "# Resulting Y:\n",
    "# [[[10, 50], [20, 60]],\n",
    "#  [[30, 70], [40, 80]]]\n"
   ]
  },
  {
   "cell_type": "code",
   "execution_count": null,
   "metadata": {},
   "outputs": [],
   "source": []
  }
 ],
 "metadata": {
  "kernelspec": {
   "display_name": "Python 3",
   "language": "python",
   "name": "python3"
  },
  "language_info": {
   "codemirror_mode": {
    "name": "ipython",
    "version": 3
   },
   "file_extension": ".py",
   "mimetype": "text/x-python",
   "name": "python",
   "nbconvert_exporter": "python",
   "pygments_lexer": "ipython3",
   "version": "3.12.2"
  }
 },
 "nbformat": 4,
 "nbformat_minor": 2
}
