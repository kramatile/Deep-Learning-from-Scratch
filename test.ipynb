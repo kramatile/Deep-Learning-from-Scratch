{
 "cells": [
  {
   "cell_type": "code",
   "execution_count": 2,
   "metadata": {},
   "outputs": [
    {
     "data": {
      "text/plain": [
       "array([[1],\n",
       "       [1],\n",
       "       [0],\n",
       "       [1]])"
      ]
     },
     "execution_count": 2,
     "metadata": {},
     "output_type": "execute_result"
    }
   ],
   "source": [
    "import numpy as np\n",
    "\n",
    "x = np.array([[1],[5],[-1],[2.5]])\n",
    "\n",
    "np.where(x > 0,1,0)"
   ]
  },
  {
   "cell_type": "code",
   "execution_count": null,
   "metadata": {},
   "outputs": [
    {
     "name": "stdout",
     "output_type": "stream",
     "text": [
      "x[mine] = [[0.73105858]\n",
      " [0.99330715]\n",
      " [0.26894142]\n",
      " [0.92414182]]\n",
      "x[torch] = tensor([[0.7311],\n",
      "        [0.9933],\n",
      "        [0.2689],\n",
      "        [0.9241]])\n"
     ]
    }
   ],
   "source": [
    "import torch.nn as nn\n",
    "import torch\n",
    "from Sigmoid import Sigmoid\n",
    "\n",
    "s = Sigmoid()\n",
    "x = s.forward(np.array([[1],[5],[-1],[2.5]]))\n",
    "print(f'x[mine] = {x}')\n",
    "t = torch.Tensor([[1],[5],[-1],[2.5]])\n",
    "s = nn.Sigmoid()\n",
    "x = s(t)\n",
    "print(f'x[torch] = {x}')"
   ]
  },
  {
   "cell_type": "code",
   "execution_count": null,
   "metadata": {},
   "outputs": [
    {
     "data": {
      "text/plain": [
       "array([[1. ],\n",
       "       [5. ],\n",
       "       [0. ],\n",
       "       [2.5]])"
      ]
     },
     "execution_count": 4,
     "metadata": {},
     "output_type": "execute_result"
    }
   ],
   "source": [
    "from ReLU import ReLU\n",
    "\n",
    "r = ReLU()\n",
    "x = r.forward(np.array([[1],[5],[-1],[2.5]]))\n",
    "x"
   ]
  }
 ],
 "metadata": {
  "kernelspec": {
   "display_name": "Python 3",
   "language": "python",
   "name": "python3"
  },
  "language_info": {
   "codemirror_mode": {
    "name": "ipython",
    "version": 3
   },
   "file_extension": ".py",
   "mimetype": "text/x-python",
   "name": "python",
   "nbconvert_exporter": "python",
   "pygments_lexer": "ipython3",
   "version": "3.12.2"
  }
 },
 "nbformat": 4,
 "nbformat_minor": 2
}
